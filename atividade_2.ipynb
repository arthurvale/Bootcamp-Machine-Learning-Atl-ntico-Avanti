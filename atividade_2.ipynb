{
  "nbformat": 4,
  "nbformat_minor": 0,
  "metadata": {
    "colab": {
      "provenance": []
    },
    "kernelspec": {
      "name": "python3",
      "display_name": "Python 3"
    },
    "language_info": {
      "name": "python"
    }
  },
  "cells": [
    {
      "cell_type": "markdown",
      "source": [
        "# CURSO: <BÁSICO EM MACHINE LEARNING>\n",
        "\n",
        "\n",
        "*   Escola: Atlântico Avanti\n",
        "*   Aluno: Arthur Vale Fonseca\n",
        "* Atividade: 2\n",
        "*Tema: Algoritmos básicos de programação em linguagem python e\n",
        "visualização e análise de dados\n",
        "*Conteúdo: Módulo 1 e 2\n",
        "\n",
        "**18/2024**\n",
        "\n"
      ],
      "metadata": {
        "id": "FjSoOlEwCckk"
      }
    },
    {
      "cell_type": "markdown",
      "source": [
        "1. Escreva uma função que receba uma lista de números e retorne outra lista\n",
        "com os números ímpares.\n"
      ],
      "metadata": {
        "id": "StYskTklZq2f"
      }
    },
    {
      "cell_type": "code",
      "source": [
        "def lista_impares(lista1: list):\n",
        "    lista_2 = []\n",
        "    try:\n",
        "      lista_2=[n for n in lista1 if n%2 !=0]\n",
        "    except TypeError:\n",
        "        print(\"Lista com caracteres inválidos\")\n",
        "        return []\n",
        "    return lista_2\n",
        "a = [0, 1, -2, 2, 3, 4, 5, 6, 7, 77, 31, 9, 15, 25, 30, 11, 10, 21, 13, 100, 50, 20, 14, 22]\n",
        "print(lista_impares(a))"
      ],
      "metadata": {
        "colab": {
          "base_uri": "https://localhost:8080/"
        },
        "id": "R1a5nl2IBSct",
        "outputId": "ea4bcdff-1ce0-4de1-e0e9-7685e0a23d6b"
      },
      "execution_count": null,
      "outputs": [
        {
          "output_type": "stream",
          "name": "stdout",
          "text": [
            "[1, 3, 5, 7, 77, 31, 9, 15, 25, 11, 21, 13]\n"
          ]
        }
      ]
    },
    {
      "cell_type": "markdown",
      "source": [
        "2. Escreva uma função que receba uma lista de números e retorne outra lista\n",
        "com os números primos presentes.\n"
      ],
      "metadata": {
        "id": "7ZPIubmVZnE3"
      }
    },
    {
      "cell_type": "code",
      "source": [
        "def lista_primo(lista1: list):\n",
        "    lista2 = []\n",
        "    for i in lista1:\n",
        "        try:\n",
        "            if abs(i) < 2:\n",
        "                continue\n",
        "            flag = True\n",
        "            for j in range(2, abs(i)):\n",
        "                if abs(i) % j == 0:\n",
        "                    flag = False\n",
        "                    break\n",
        "            if flag:\n",
        "                lista2.append(i)\n",
        "        except TypeError:\n",
        "            print(\"Lista contém caracteres inválidos.\")\n",
        "            return []\n",
        "    return lista2\n",
        "\n",
        "a = [0, 1, -2, 2, 3, 4, 5, 6, 7, 77, 31, 9, 15, 25, 30, 11, 10, 21, 13]\n",
        "print(lista_primo(a))\n"
      ],
      "metadata": {
        "colab": {
          "base_uri": "https://localhost:8080/"
        },
        "id": "Ixtfx8L0Lnrg",
        "outputId": "661a7416-09e0-4a58-a2ea-0fe5171e8f57"
      },
      "execution_count": null,
      "outputs": [
        {
          "output_type": "stream",
          "name": "stdout",
          "text": [
            "[-2, 2, 3, 5, 7, 31, 11, 13]\n"
          ]
        }
      ]
    },
    {
      "cell_type": "markdown",
      "source": [
        "3. Escreva uma função que receba duas listas e retorne outra lista com os\n",
        "elementos que estão presentes em apenas uma das listas.\n"
      ],
      "metadata": {
        "id": "CWStttIsaRpZ"
      }
    },
    {
      "cell_type": "code",
      "source": [
        "def elemento_unico(lista1: list, lista2: list):\n",
        "    try:\n",
        "        unicos = [a for a in lista1 if a not in lista2]\n",
        "        return unicos\n",
        "    except TypeError:\n",
        "        print(\"Lista contém caracteres inválidos.\")\n",
        "        return []\n",
        "\n",
        "print(elemento_unico([1, 2, 3, 4, 5], [1, 2, 3]))"
      ],
      "metadata": {
        "colab": {
          "base_uri": "https://localhost:8080/"
        },
        "id": "5oqplGzhyP-r",
        "outputId": "0bbf1dbd-53d9-4d50-8321-d37f8720c7a2"
      },
      "execution_count": null,
      "outputs": [
        {
          "output_type": "stream",
          "name": "stdout",
          "text": [
            "[4, 5]\n"
          ]
        }
      ]
    },
    {
      "cell_type": "markdown",
      "source": [
        "4. Dada uma lista de números inteiros, escreva uma função para encontrar o\n",
        "segundo maior valor na lista.\n"
      ],
      "metadata": {
        "id": "MzLghtwbabZG"
      }
    },
    {
      "cell_type": "code",
      "source": [
        "def segundo_maior(lista:list):\n",
        "  try:\n",
        "    b=c=lista[0]\n",
        "    for i in lista:\n",
        "      if i>b:\n",
        "        c=b\n",
        "        b=i\n",
        "      elif c<i<b:\n",
        "        c=i\n",
        "      else:\n",
        "        c=lista[1]\n",
        "        for ii in lista[1:]:\n",
        "          if b>ii>c:\n",
        "            c=ii\n",
        "    return c\n",
        "  except TypeError:\n",
        "      print(\"Lista contém caracteres inválidos.\")\n",
        "      return []\n",
        "print(segundo_maior([5,'x',-2,-9,-1,1,5]))"
      ],
      "metadata": {
        "colab": {
          "base_uri": "https://localhost:8080/"
        },
        "id": "55uQ_3Z0FT54",
        "outputId": "7c0c698e-aa3b-4907-c2ca-8f970318aa89"
      },
      "execution_count": null,
      "outputs": [
        {
          "output_type": "stream",
          "name": "stdout",
          "text": [
            "Lista contém caracteres inválidos.\n",
            "[]\n"
          ]
        }
      ]
    },
    {
      "cell_type": "markdown",
      "source": [
        "5. Crie uma função que receba uma lista de tuplas, cada uma contendo o\n",
        "nome e a idade de uma pessoa, e retorne a lista ordenada pelo nome das\n",
        "pessoas em ordem alfabética."
      ],
      "metadata": {
        "id": "stom32_waiY_"
      }
    },
    {
      "cell_type": "code",
      "source": [
        "def reordenar(lista:list):\n",
        "  try:\n",
        "    for i in range(len(lista)):\n",
        "      nome_fixo=lista[i][0]\n",
        "      for j in range(i+1,len(lista)):\n",
        "        if lista[j][0]<nome_fixo:\n",
        "          lista[i],lista[j]=lista[j],lista[i]\n",
        "    return lista\n",
        "  except TypeError:\n",
        "      print(\"Lista contém caracteres inválidos.\")\n",
        "      return []\n",
        "\n",
        "print(reordenar([('ab',0),('arthur',1),('anabel',2),('artur',2),('a',4)]))\n",
        "#"
      ],
      "metadata": {
        "colab": {
          "base_uri": "https://localhost:8080/"
        },
        "id": "nPXchMQx5GfZ",
        "outputId": "46cf1207-b219-49f5-a62f-b0b0b38ed13f"
      },
      "execution_count": null,
      "outputs": [
        {
          "output_type": "stream",
          "name": "stdout",
          "text": [
            "[('a', 4), ('ab', 0), ('anabel', 2), ('arthur', 1), ('artur', 2)]\n"
          ]
        }
      ]
    },
    {
      "cell_type": "markdown",
      "source": [
        "6. Observe os espaços sublinhados e complete o código.\n",
        "import __________.pyplot as plt\n",
        "import numpy as ___\n",
        "fig, axs = plt.subplots(ncols=2, nrows=2, figsize=(5.5, 3.5),\n",
        " layout=\"constrained\")\n",
        "for ___ in range(2):\n",
        " for ___ in range(2):\n",
        " axs[row, col].annotate(f'axs[{row}, {col}]', (0.5, 0.5),\n",
        " transform=axs[row, col].transAxes,\n",
        " ha='center', va='center', ________=18,\n",
        " color='darkgrey')\n",
        "fig.suptitle('__.subplots()')\n"
      ],
      "metadata": {
        "id": "i5B2UP5783Ri"
      }
    },
    {
      "cell_type": "code",
      "source": [
        "import matplotlib.pyplot as plt\n",
        "import numpy as np\n",
        "fig, axs = plt.subplots(ncols=2, nrows=2, figsize=(5.5, 3.5),\n",
        "                        layout=\"constrained\")\n",
        "for row in range(2):\n",
        "  for col in range(2):\n",
        "    axs[row, col].annotate(f'axs[{row}, {col}]', (0.5, 0.5),\n",
        "                           transform=axs[row, col].transAxes,\n",
        "                           ha='center', va='center', fontsize=18,\n",
        "                           color='darkgrey')\n",
        "fig.suptitle('plt.subplots()')\n",
        "#"
      ],
      "metadata": {
        "colab": {
          "base_uri": "https://localhost:8080/",
          "height": 395
        },
        "id": "r8JuHTAg85N6",
        "outputId": "a243a513-9131-47dd-d585-87b54e69eb8f"
      },
      "execution_count": null,
      "outputs": [
        {
          "output_type": "execute_result",
          "data": {
            "text/plain": [
              "Text(0.5, 0.98, 'plt.subplots()')"
            ]
          },
          "metadata": {},
          "execution_count": 13
        },
        {
          "output_type": "display_data",
          "data": {
            "text/plain": [
              "<Figure size 550x350 with 4 Axes>"
            ],
            "image/png": "[encoded data removed]"
          },
          "metadata": {}
        }
      ]
    },
    {
      "cell_type": "markdown",
      "source": [
        "7. Observe os espaços sublinhados e complete o código.\n",
        "import numpy as np\n",
        "import __________ as mpl\n",
        "import __________.______ as plt\n",
        "x = np.________(-2 * np.pi, 2 * np.pi, 100)\n",
        "y = np.____(x)\n",
        "__, __ = plt.subplots()\n",
        "ax.____(_, _)\n"
      ],
      "metadata": {
        "id": "jJulKl-6ABO7"
      }
    },
    {
      "cell_type": "code",
      "source": [
        "import matplotlib as mpl\n",
        "import matplotlib.pyplot as plt\n",
        "import numpy as np\n",
        "\n",
        "x = np.logspace(-2 * np.pi, 2 * np.pi, 100)\n",
        "y = np.log(x)\n",
        "fig, ax = plt.subplots()\n",
        "ax.plot(x, y)\n"
      ],
      "metadata": {
        "colab": {
          "base_uri": "https://localhost:8080/",
          "height": 465
        },
        "id": "adbzPUzT_f_7",
        "outputId": "c0f85622-4394-41cc-8165-d8bdbbc7a61e"
      },
      "execution_count": null,
      "outputs": [
        {
          "output_type": "execute_result",
          "data": {
            "text/plain": [
              "[<matplotlib.lines.Line2D at 0x7a4c3c8a2cb0>]"
            ]
          },
          "metadata": {},
          "execution_count": 14
        },
        {
          "output_type": "display_data",
          "data": {
            "text/plain": [
              "<Figure size 640x480 with 1 Axes>"
            ],
            "image/png": "[encoded data removed]"
          },
          "metadata": {}
        }
      ]
    },
    {
      "cell_type": "markdown",
      "source": [
        "8. Utilizando pandas, como realizar a leitura de um arquivo CSV em um\n",
        "DataFrame e exibir as primeiras linhas?\n"
      ],
      "metadata": {
        "id": "JszuX3RJDWaL"
      }
    },
    {
      "cell_type": "code",
      "source": [
        "import pandas as pd\n",
        "#especifique o nome da planilha e o caminho em que se encontra.\n",
        "dados = pd.read_csv(\"caminho/planilha.csv\")\n",
        "dados.head(10)"
      ],
      "metadata": {
        "id": "2WkG0wwTDYOt"
      },
      "execution_count": null,
      "outputs": []
    },
    {
      "cell_type": "markdown",
      "source": [
        "9. Utilizando pandas, como selecionar uma coluna específica e filtrar linhas\n",
        "em um “DataFrame” com base em uma condição?\n"
      ],
      "metadata": {
        "id": "y04BaUYkDYlr"
      }
    },
    {
      "cell_type": "code",
      "source": [
        "# considerando que a variável pdados é um dataframe definido no exercício 8.\n",
        "\n",
        "dados_filtrados=dados[(dados['peso']>=70.00) & (dados['altura']>=1.70)]"
      ],
      "metadata": {
        "id": "Ujbzso2lDZCM"
      },
      "execution_count": null,
      "outputs": []
    },
    {
      "cell_type": "markdown",
      "source": [
        "10.Utilizando pandas, como lidar com valores ausentes (NaN) em um\n",
        "DataFrame?\n"
      ],
      "metadata": {
        "id": "4aTNzgH0Dad7"
      }
    },
    {
      "cell_type": "code",
      "source": [
        "# considerando que a variável pdados é um dataframe definido no exercício 8.\n",
        "\n",
        "dados.isna().sum() # comando para visualizar o numero de ocorrências de valores nulos em cada coluna do dataframe\n",
        "\n",
        "# algumas formas para tratar valores vazios\n",
        "\n",
        "dados_nao_nulos_1=dados.dropna() #exclui todas as linhas que contenham pelo menos 1 valor NaN\n",
        "\n",
        "dados_nao_nulos_2=dados.fillna('a') #substitui os valores NaN do dataframe por algum valor específico. Neste exemplo todos os valores NaN são substituidos por 'a'\n",
        "\n",
        "dados_nao_nulos_3=dados.fillna(dados.mode()) #substitui os valores NaN do dataframe pela moda dos valores de cada coluna do dataframe\n",
        "\n",
        "# comandos específicos para colunas de tipo numéricos\n",
        "\n",
        "dados_nao_nulos_4=dados.fillna(dados.mean()) #substitui os valores NaN do dataframe pela média dos valores de cada coluna do dataframe\n",
        "\n",
        "dados_nao_nulos_5=dados.fillna(dados.median()) #substitui os valores NaN do dataframe pela mediana dos valores de cada coluna do dataframe\n",
        "\n",
        "# aplicação das alterções em uma coluna específica\n",
        "dados_nao_nulos_6=dados.dropna(subset=['altura', 'peso']) #exclui todas as linhas que contenham pelo menos 1 valor NaN na coluna 'altura' e 'peso'\n",
        "\n",
        "dados['altura']=dados['altura'].fillna(dados['altura'].mean()) #substitui no df original os valores NaN pela média dos valores da coluna 'altura'"
      ],
      "metadata": {
        "id": "HB5Tg6XmDbE1"
      },
      "execution_count": null,
      "outputs": []
    }
  ]
}